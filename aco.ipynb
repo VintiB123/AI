{
 "cells": [
  {
   "cell_type": "code",
   "execution_count": 1,
   "metadata": {},
   "outputs": [
    {
     "name": "stdout",
     "output_type": "stream",
     "text": [
      "Best solution: [1, 3, 2, 0]\n",
      "Best cost: 80\n"
     ]
    }
   ],
   "source": [
    "import random\n",
    "\n",
    "\n",
    "[[1,1,1],\n",
    " [1,1,1],\n",
    " [1,1,1]]\n",
    "def aco_algorithm(num_cities, distances, num_ants, max_iterations):\n",
    "   # Initialize pheromones\n",
    "   pheromones = [[1 for _ in range(num_cities)] for _ in range(num_cities)]\n",
    "   best_cost = 999999\n",
    "   best_solution = []\n",
    "\n",
    "   for _ in range(max_iterations):\n",
    "      solutions = []\n",
    "\n",
    "\n",
    "      for _ in range(num_ants):\n",
    "         # Create solution\n",
    "         solution = list(range(num_cities))\n",
    "         random.shuffle(solution)\n",
    "         cost = sum(distances[solution[i]][solution[(i + 1) % len(solution)]] for i in range(len(solution)))\n",
    "         solutions.append((solution, cost))\n",
    "\n",
    "      # Update best solution\n",
    "      solutions.sort(key= lambda x: x[1])\n",
    "      if solutions[0][1] < best_cost:\n",
    "         best_solution, best_cost = solutions[0]\n",
    "\n",
    "      # Update pheromones\n",
    "      for solution, cost in solutions:\n",
    "         for i in range(len(solution)):\n",
    "            city_a, city_b = solution[i], solution[(i + 1) % len(solution)]\n",
    "            pheromones[city_a][city_b] += 1 / cost\n",
    "\n",
    "   return best_solution, best_cost\n",
    "\n",
    "# Define the problem parameters\n",
    "num_cities = 4\n",
    "distances = [\n",
    "    [0, 10, 15, 20],\n",
    "    [10, 0, 35, 25],\n",
    "    [15, 35, 0, 30],\n",
    "    [20, 25, 30, 0]\n",
    "]\n",
    "\n",
    "# Define the ACO parameters\n",
    "num_ants = 10\n",
    "max_iterations = 100\n",
    "\n",
    "best_solution, best_cost = aco_algorithm(num_cities, distances, num_ants, max_iterations)\n",
    "\n",
    "print(f\"Best solution: {best_solution}\")\n",
    "print(f\"Best cost: {best_cost}\")"
   ]
  }
 ],
 "metadata": {
  "kernelspec": {
   "display_name": "Python 3",
   "language": "python",
   "name": "python3"
  },
  "language_info": {
   "codemirror_mode": {
    "name": "ipython",
    "version": 3
   },
   "file_extension": ".py",
   "mimetype": "text/x-python",
   "name": "python",
   "nbconvert_exporter": "python",
   "pygments_lexer": "ipython3",
   "version": "3.12.0"
  }
 },
 "nbformat": 4,
 "nbformat_minor": 2
}
