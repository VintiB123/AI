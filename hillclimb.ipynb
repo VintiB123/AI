{
 "cells": [
  {
   "cell_type": "code",
   "execution_count": 1,
   "metadata": {},
   "outputs": [
    {
     "name": "stdout",
     "output_type": "stream",
     "text": [
      "2.9899999999999802\n"
     ]
    }
   ],
   "source": [
    "def objective(x,target):\n",
    "    return (x * x) - target\n",
    "def hill_climb(target=25, currSol=0.0, epsilon=0.1):\n",
    "    while True:\n",
    "        currObj = objective(currSol, target)\n",
    "        \n",
    "        if abs(currObj) < epsilon:\n",
    "            return currSol\n",
    "        if currObj > 0:\n",
    "            currSol -= 0.01\n",
    "        if currObj < 0:\n",
    "            currSol += 0.01\n",
    "            \n",
    "print(hill_climb(target = 9))"
   ]
  }
 ],
 "metadata": {
  "kernelspec": {
   "display_name": "Python 3",
   "language": "python",
   "name": "python3"
  },
  "language_info": {
   "codemirror_mode": {
    "name": "ipython",
    "version": 3
   },
   "file_extension": ".py",
   "mimetype": "text/x-python",
   "name": "python",
   "nbconvert_exporter": "python",
   "pygments_lexer": "ipython3",
   "version": "3.12.0"
  }
 },
 "nbformat": 4,
 "nbformat_minor": 2
}
