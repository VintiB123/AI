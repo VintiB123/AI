{
 "cells": [
  {
   "cell_type": "code",
   "execution_count": 5,
   "id": "8bc59528",
   "metadata": {},
   "outputs": [
    {
     "name": "stdout",
     "output_type": "stream",
     "text": [
      "Enter the number of edges: 11\n",
      "Enter the edges in format node1 node2:\n",
      "0 1\n",
      "0 3\n",
      "1 2\n",
      "1 3\n",
      "1 5\n",
      "1 6\n",
      "2 3\n",
      "2 4\n",
      "2 5\n",
      "3 4\n",
      "4 6\n",
      "Enter the starting node: 0\n",
      "0 1 3 2 5 6 4 "
     ]
    }
   ],
   "source": [
    "# O(V+E)\n",
    "graph = {}\n",
    "num_edges = int(input(\"Enter the number of edges: \"))\n",
    "print(\"Enter the edges in format node1 node2:\")\n",
    "for _ in range(num_edges):\n",
    "    u,v = input().split()\n",
    "    \n",
    "    if u in graph:\n",
    "        graph[u].append(v)\n",
    "            \n",
    "    else:\n",
    "        graph[u] = [v]\n",
    "            \n",
    "    if v not in graph:\n",
    "        graph[v] = []\n",
    "\n",
    "startn = input(\"Enter the starting node: \")\n",
    "def bfs(graph,start):\n",
    "    queue = [start]\n",
    "    visited = []\n",
    "    visited.append(start)\n",
    "    \n",
    "    while queue:\n",
    "        vertex = queue.pop(0)\n",
    "        print(vertex,end=' ')\n",
    "        \n",
    "        for edge in graph[vertex]:\n",
    "            if edge not in visited:\n",
    "                visited.append(edge)\n",
    "                queue.append(edge)\n",
    "                \n",
    "                \n",
    "bfs(graph,startn)"
   ]
  },
  {
   "cell_type": "code",
   "execution_count": null,
   "id": "0d217144",
   "metadata": {},
   "outputs": [],
   "source": [
    "\n"
   ]
  },
  {
   "cell_type": "code",
   "execution_count": null,
   "id": "c4f973e1",
   "metadata": {},
   "outputs": [],
   "source": []
  }
 ],
 "metadata": {
  "kernelspec": {
   "display_name": "Python 3 (ipykernel)",
   "language": "python",
   "name": "python3"
  },
  "language_info": {
   "codemirror_mode": {
    "name": "ipython",
    "version": 3
   },
   "file_extension": ".py",
   "mimetype": "text/x-python",
   "name": "python",
   "nbconvert_exporter": "python",
   "pygments_lexer": "ipython3",
   "version": "3.11.4"
  }
 },
 "nbformat": 4,
 "nbformat_minor": 5
}
