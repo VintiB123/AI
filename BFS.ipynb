{
 "cells": [
  {
   "cell_type": "code",
   "execution_count": 9,
   "id": "8bc59528",
   "metadata": {},
   "outputs": [
    {
     "name": "stdout",
     "output_type": "stream",
     "text": [
      "Enter the number of vertices in graph:4\n",
      "Enter vertex A\n",
      "Enter connecting edges B C\n",
      "Enter vertex B\n",
      "Enter connecting edges C\n",
      "Enter vertex C\n",
      "Enter connecting edges A D\n",
      "Enter vertex D\n",
      "Enter connecting edges \n",
      "Enter the starting node: C\n",
      "C A D "
     ]
    },
    {
     "ename": "KeyError",
     "evalue": "'A D'",
     "output_type": "error",
     "traceback": [
      "\u001b[1;31m---------------------------------------------------------------------------\u001b[0m",
      "\u001b[1;31mKeyError\u001b[0m                                  Traceback (most recent call last)",
      "Cell \u001b[1;32mIn[9], line 33\u001b[0m\n\u001b[0;32m     29\u001b[0m                 visited\u001b[38;5;241m.\u001b[39mappend(edge)\n\u001b[0;32m     30\u001b[0m                 queue\u001b[38;5;241m.\u001b[39mappend(edge)\n\u001b[1;32m---> 33\u001b[0m bfs(visited,graph,startn)\n",
      "Cell \u001b[1;32mIn[9], line 27\u001b[0m, in \u001b[0;36mbfs\u001b[1;34m(visited, graph, start)\u001b[0m\n\u001b[0;32m     24\u001b[0m vertex \u001b[38;5;241m=\u001b[39m queue\u001b[38;5;241m.\u001b[39mpop(\u001b[38;5;241m0\u001b[39m)\n\u001b[0;32m     25\u001b[0m \u001b[38;5;28mprint\u001b[39m(vertex,end\u001b[38;5;241m=\u001b[39m\u001b[38;5;124m'\u001b[39m\u001b[38;5;124m \u001b[39m\u001b[38;5;124m'\u001b[39m)\n\u001b[1;32m---> 27\u001b[0m \u001b[38;5;28;01mfor\u001b[39;00m edge \u001b[38;5;129;01min\u001b[39;00m graph[vertex]:\n\u001b[0;32m     28\u001b[0m     \u001b[38;5;28;01mif\u001b[39;00m edge \u001b[38;5;129;01mnot\u001b[39;00m \u001b[38;5;129;01min\u001b[39;00m visited:\n\u001b[0;32m     29\u001b[0m         visited\u001b[38;5;241m.\u001b[39mappend(edge)\n",
      "\u001b[1;31mKeyError\u001b[0m: 'A D'"
     ]
    }
   ],
   "source": [
    "# O(V+E)\n",
    "graph ={}\n",
    "\n",
    "\n",
    "\n",
    "n = int(input(\"Enter the number of vertices in graph:\"))\n",
    "for i in range(n):\n",
    "    key = input(\"Enter vertex \")\n",
    "    value = input(\"Enter connecting edges \")\n",
    "    \n",
    "    if key in graph:\n",
    "        graph[key].append(value).split(' ')\n",
    "        \n",
    "    else:\n",
    "        graph[key] = [value]\n",
    "\n",
    "startn = input(\"Enter the starting node: \")\n",
    "def bfs(visited,graph,start):\n",
    "    queue = [start]\n",
    "    visited = []\n",
    "    visited.append(start)\n",
    "    \n",
    "    while queue:\n",
    "        vertex = queue.pop(0)\n",
    "        print(vertex,end=' ')\n",
    "        \n",
    "        for edge in graph[vertex]:\n",
    "            if edge not in visited:\n",
    "                visited.append(edge)\n",
    "                queue.append(edge)\n",
    "                \n",
    "                \n",
    "bfs(visited,graph,startn)"
   ]
  },
  {
   "cell_type": "code",
   "execution_count": 5,
   "id": "0d217144",
   "metadata": {},
   "outputs": [
    {
     "name": "stdout",
     "output_type": "stream",
     "text": [
      "Enter the number of key-value pairs: 2\n",
      "Enter key: A\n",
      "Enter value: B C\n",
      "Enter key: B\n",
      "Enter value: C A\n",
      "Your dictionary:\n",
      "{'A': ['B C'], 'B': ['C A']}\n"
     ]
    }
   ],
   "source": [
    "# Initialize an empty dictionary\n",
    "my_dict = {}\n",
    "\n",
    "# Take input for the number of key-value pairs\n",
    "n = int(input(\"Enter the number of key-value pairs: \"))\n",
    "\n",
    "# Iterate to take input for each key-value pair\n",
    "for i in range(n):\n",
    "    key = input(\"Enter key: \")\n",
    "    value = input(\"Enter value: \")\n",
    "    \n",
    "    # Check if the key already exists in the dictionary\n",
    "    if key in my_dict:\n",
    "        # If key exists, append the new value to the list of existing values\n",
    "        my_dict[key].append(value)\n",
    "    else:\n",
    "        # If key does not exist, create a new list with the value\n",
    "        my_dict[key] = [value]\n",
    "\n",
    "# Print the dictionary\n",
    "print(\"Your dictionary:\")\n",
    "print(my_dict)\n"
   ]
  },
  {
   "cell_type": "code",
   "execution_count": null,
   "id": "c4f973e1",
   "metadata": {},
   "outputs": [],
   "source": []
  }
 ],
 "metadata": {
  "kernelspec": {
   "display_name": "Python 3 (ipykernel)",
   "language": "python",
   "name": "python3"
  },
  "language_info": {
   "codemirror_mode": {
    "name": "ipython",
    "version": 3
   },
   "file_extension": ".py",
   "mimetype": "text/x-python",
   "name": "python",
   "nbconvert_exporter": "python",
   "pygments_lexer": "ipython3",
   "version": "3.11.4"
  }
 },
 "nbformat": 4,
 "nbformat_minor": 5
}
