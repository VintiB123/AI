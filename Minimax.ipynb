{
 "cells": [
  {
   "cell_type": "code",
   "execution_count": 1,
   "id": "cb954ef1",
   "metadata": {},
   "outputs": [],
   "source": [
    "import math\n",
    "\n",
    "# Enter the length of the list: 8\n",
    "# 3\n",
    "# 5\n",
    "# 6\n",
    "# 9\n",
    "# 1\n",
    "# 2\n",
    "# 0\n",
    "# -1"
   ]
  },
  {
   "cell_type": "code",
   "execution_count": 2,
   "id": "c9f2df15",
   "metadata": {},
   "outputs": [
    {
     "name": "stdout",
     "output_type": "stream",
     "text": [
      "Minimax Algorithm\n",
      "5\n"
     ]
    }
   ],
   "source": [
    "def minimax(currentDepth,indexnode,mini_max,scores,leafnode):\n",
    "    if currentDepth == leafnode:\n",
    "        return scores[indexnode]\n",
    "    \n",
    "    if mini_max:\n",
    "        return max(minimax(currentDepth +1,indexnode*2 ,False,scores,leafnode),minimax(currentDepth +1,indexnode*2 +1,False,scores,leafnode))\n",
    "    \n",
    "    else:\n",
    "        return min(minimax(currentDepth+1,indexnode*2,True,scores,leafnode),minimax(currentDepth +1,indexnode*2 +1,True,scores,leafnode))\n",
    "    \n",
    "    \n",
    "    \n",
    "scores = []\n",
    "length = int(input(\"Enter the length of the list: \"))\n",
    "for i in range(length):\n",
    "    scores.append(int(input()))\n",
    "    \n",
    "lengthNode = int(math.log(len(scores),2))\n",
    "max_min = True if int(math.log(len(scores),2)) == math.log(len(scores),2) else False\n",
    "\n",
    "print(\"Minimax Algorithm\")\n",
    "print(minimax(0,0,max_min,scores,lengthNode))"
   ]
  },
  {
   "cell_type": "code",
   "execution_count": null,
   "id": "aae057a8",
   "metadata": {},
   "outputs": [],
   "source": []
  }
 ],
 "metadata": {
  "kernelspec": {
   "display_name": "Python 3 (ipykernel)",
   "language": "python",
   "name": "python3"
  },
  "language_info": {
   "codemirror_mode": {
    "name": "ipython",
    "version": 3
   },
   "file_extension": ".py",
   "mimetype": "text/x-python",
   "name": "python",
   "nbconvert_exporter": "python",
   "pygments_lexer": "ipython3",
   "version": "3.12.0"
  }
 },
 "nbformat": 4,
 "nbformat_minor": 5
}
